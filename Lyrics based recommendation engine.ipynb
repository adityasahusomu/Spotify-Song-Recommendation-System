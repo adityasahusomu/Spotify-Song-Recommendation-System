{
 "cells": [
  {
   "cell_type": "code",
   "execution_count": 189,
   "id": "ebfa5901",
   "metadata": {},
   "outputs": [],
   "source": [
    "import pandas as pd\n",
    "import numpy as np\n",
    "import matplotlib.pyplot as plt\n",
    "import seaborn as sns"
   ]
  },
  {
   "cell_type": "code",
   "execution_count": 190,
   "id": "4eaa5514",
   "metadata": {},
   "outputs": [],
   "source": [
    "df_spotify_lyrics = pd.read_csv('spotify_millsongdata.csv')"
   ]
  },
  {
   "cell_type": "code",
   "execution_count": 191,
   "id": "140c2e73",
   "metadata": {},
   "outputs": [
    {
     "data": {
      "text/html": [
       "<div>\n",
       "<style scoped>\n",
       "    .dataframe tbody tr th:only-of-type {\n",
       "        vertical-align: middle;\n",
       "    }\n",
       "\n",
       "    .dataframe tbody tr th {\n",
       "        vertical-align: top;\n",
       "    }\n",
       "\n",
       "    .dataframe thead th {\n",
       "        text-align: right;\n",
       "    }\n",
       "</style>\n",
       "<table border=\"1\" class=\"dataframe\">\n",
       "  <thead>\n",
       "    <tr style=\"text-align: right;\">\n",
       "      <th></th>\n",
       "      <th>artist</th>\n",
       "      <th>song</th>\n",
       "      <th>link</th>\n",
       "      <th>text</th>\n",
       "    </tr>\n",
       "  </thead>\n",
       "  <tbody>\n",
       "    <tr>\n",
       "      <th>0</th>\n",
       "      <td>ABBA</td>\n",
       "      <td>Ahe's My Kind Of Girl</td>\n",
       "      <td>/a/abba/ahes+my+kind+of+girl_20598417.html</td>\n",
       "      <td>Look at her face, it's a wonderful face  \\r\\nA...</td>\n",
       "    </tr>\n",
       "    <tr>\n",
       "      <th>1</th>\n",
       "      <td>ABBA</td>\n",
       "      <td>Andante, Andante</td>\n",
       "      <td>/a/abba/andante+andante_20002708.html</td>\n",
       "      <td>Take it easy with me, please  \\r\\nTouch me gen...</td>\n",
       "    </tr>\n",
       "    <tr>\n",
       "      <th>2</th>\n",
       "      <td>ABBA</td>\n",
       "      <td>As Good As New</td>\n",
       "      <td>/a/abba/as+good+as+new_20003033.html</td>\n",
       "      <td>I'll never know why I had to go  \\r\\nWhy I had...</td>\n",
       "    </tr>\n",
       "    <tr>\n",
       "      <th>3</th>\n",
       "      <td>ABBA</td>\n",
       "      <td>Bang</td>\n",
       "      <td>/a/abba/bang_20598415.html</td>\n",
       "      <td>Making somebody happy is a question of give an...</td>\n",
       "    </tr>\n",
       "    <tr>\n",
       "      <th>4</th>\n",
       "      <td>ABBA</td>\n",
       "      <td>Bang-A-Boomerang</td>\n",
       "      <td>/a/abba/bang+a+boomerang_20002668.html</td>\n",
       "      <td>Making somebody happy is a question of give an...</td>\n",
       "    </tr>\n",
       "  </tbody>\n",
       "</table>\n",
       "</div>"
      ],
      "text/plain": [
       "  artist                   song                                        link  \\\n",
       "0   ABBA  Ahe's My Kind Of Girl  /a/abba/ahes+my+kind+of+girl_20598417.html   \n",
       "1   ABBA       Andante, Andante       /a/abba/andante+andante_20002708.html   \n",
       "2   ABBA         As Good As New        /a/abba/as+good+as+new_20003033.html   \n",
       "3   ABBA                   Bang                  /a/abba/bang_20598415.html   \n",
       "4   ABBA       Bang-A-Boomerang      /a/abba/bang+a+boomerang_20002668.html   \n",
       "\n",
       "                                                text  \n",
       "0  Look at her face, it's a wonderful face  \\r\\nA...  \n",
       "1  Take it easy with me, please  \\r\\nTouch me gen...  \n",
       "2  I'll never know why I had to go  \\r\\nWhy I had...  \n",
       "3  Making somebody happy is a question of give an...  \n",
       "4  Making somebody happy is a question of give an...  "
      ]
     },
     "execution_count": 191,
     "metadata": {},
     "output_type": "execute_result"
    }
   ],
   "source": [
    "df_spotify_lyrics.head()"
   ]
  },
  {
   "cell_type": "code",
   "execution_count": 192,
   "id": "a48145c3",
   "metadata": {},
   "outputs": [],
   "source": [
    "df_spotify_lyrics = df_spotify_lyrics.sample(15000)"
   ]
  },
  {
   "cell_type": "code",
   "execution_count": 193,
   "id": "cd725644",
   "metadata": {},
   "outputs": [
    {
     "data": {
      "text/plain": [
       "artist    0\n",
       "song      0\n",
       "link      0\n",
       "text      0\n",
       "dtype: int64"
      ]
     },
     "execution_count": 193,
     "metadata": {},
     "output_type": "execute_result"
    }
   ],
   "source": [
    "df_spotify_lyrics.isnull().sum()"
   ]
  },
  {
   "cell_type": "code",
   "execution_count": 194,
   "id": "517b8fe2",
   "metadata": {},
   "outputs": [
    {
     "data": {
      "text/plain": [
       "0"
      ]
     },
     "execution_count": 194,
     "metadata": {},
     "output_type": "execute_result"
    }
   ],
   "source": [
    "df_spotify_lyrics.duplicated().sum()"
   ]
  },
  {
   "cell_type": "code",
   "execution_count": 195,
   "id": "6c0fb934",
   "metadata": {},
   "outputs": [
    {
     "data": {
      "text/plain": [
       "(15000, 4)"
      ]
     },
     "execution_count": 195,
     "metadata": {},
     "output_type": "execute_result"
    }
   ],
   "source": [
    "df_spotify_lyrics.shape"
   ]
  },
  {
   "cell_type": "code",
   "execution_count": 196,
   "id": "4c005f8b",
   "metadata": {},
   "outputs": [],
   "source": [
    "df_spotify_lyrics.drop(columns=['link'], inplace=True)"
   ]
  },
  {
   "cell_type": "code",
   "execution_count": 197,
   "id": "9956c262",
   "metadata": {},
   "outputs": [
    {
     "data": {
      "text/html": [
       "<div>\n",
       "<style scoped>\n",
       "    .dataframe tbody tr th:only-of-type {\n",
       "        vertical-align: middle;\n",
       "    }\n",
       "\n",
       "    .dataframe tbody tr th {\n",
       "        vertical-align: top;\n",
       "    }\n",
       "\n",
       "    .dataframe thead th {\n",
       "        text-align: right;\n",
       "    }\n",
       "</style>\n",
       "<table border=\"1\" class=\"dataframe\">\n",
       "  <thead>\n",
       "    <tr style=\"text-align: right;\">\n",
       "      <th></th>\n",
       "      <th>artist</th>\n",
       "      <th>song</th>\n",
       "      <th>text</th>\n",
       "    </tr>\n",
       "  </thead>\n",
       "  <tbody>\n",
       "    <tr>\n",
       "      <th>2565</th>\n",
       "      <td>Cher</td>\n",
       "      <td>I Still Haven't Found What I'm Looking For</td>\n",
       "      <td>I have climbed highest mountain  \\r\\nI have ru...</td>\n",
       "    </tr>\n",
       "    <tr>\n",
       "      <th>47839</th>\n",
       "      <td>Pearl Jam</td>\n",
       "      <td>Of The Girl</td>\n",
       "      <td>Oh, he deals 'em off, off the top, ties 'em of...</td>\n",
       "    </tr>\n",
       "    <tr>\n",
       "      <th>5815</th>\n",
       "      <td>Face To Face</td>\n",
       "      <td>The New Way</td>\n",
       "      <td>You're alright, you're alive, you're the numbe...</td>\n",
       "    </tr>\n",
       "    <tr>\n",
       "      <th>52266</th>\n",
       "      <td>Stevie Wonder</td>\n",
       "      <td>Ain't That Love</td>\n",
       "      <td>Now, baby when you sigh  \\r\\n(when you sigh)  ...</td>\n",
       "    </tr>\n",
       "    <tr>\n",
       "      <th>50246</th>\n",
       "      <td>Ray Boltz</td>\n",
       "      <td>Nobody's Home</td>\n",
       "      <td>Nobody's Home  \\r\\nWords and music by Ray Bolt...</td>\n",
       "    </tr>\n",
       "  </tbody>\n",
       "</table>\n",
       "</div>"
      ],
      "text/plain": [
       "              artist                                        song  \\\n",
       "2565            Cher  I Still Haven't Found What I'm Looking For   \n",
       "47839      Pearl Jam                                 Of The Girl   \n",
       "5815    Face To Face                                 The New Way   \n",
       "52266  Stevie Wonder                             Ain't That Love   \n",
       "50246      Ray Boltz                               Nobody's Home   \n",
       "\n",
       "                                                    text  \n",
       "2565   I have climbed highest mountain  \\r\\nI have ru...  \n",
       "47839  Oh, he deals 'em off, off the top, ties 'em of...  \n",
       "5815   You're alright, you're alive, you're the numbe...  \n",
       "52266  Now, baby when you sigh  \\r\\n(when you sigh)  ...  \n",
       "50246  Nobody's Home  \\r\\nWords and music by Ray Bolt...  "
      ]
     },
     "execution_count": 197,
     "metadata": {},
     "output_type": "execute_result"
    }
   ],
   "source": [
    "df_spotify_lyrics.head()"
   ]
  },
  {
   "cell_type": "code",
   "execution_count": 198,
   "id": "978d2655",
   "metadata": {},
   "outputs": [],
   "source": [
    "df_spotify_lyrics.reset_index(drop=True, inplace=True)"
   ]
  },
  {
   "cell_type": "code",
   "execution_count": 199,
   "id": "27f1ec3c",
   "metadata": {},
   "outputs": [
    {
     "data": {
      "text/html": [
       "<div>\n",
       "<style scoped>\n",
       "    .dataframe tbody tr th:only-of-type {\n",
       "        vertical-align: middle;\n",
       "    }\n",
       "\n",
       "    .dataframe tbody tr th {\n",
       "        vertical-align: top;\n",
       "    }\n",
       "\n",
       "    .dataframe thead th {\n",
       "        text-align: right;\n",
       "    }\n",
       "</style>\n",
       "<table border=\"1\" class=\"dataframe\">\n",
       "  <thead>\n",
       "    <tr style=\"text-align: right;\">\n",
       "      <th></th>\n",
       "      <th>artist</th>\n",
       "      <th>song</th>\n",
       "      <th>text</th>\n",
       "    </tr>\n",
       "  </thead>\n",
       "  <tbody>\n",
       "    <tr>\n",
       "      <th>0</th>\n",
       "      <td>Cher</td>\n",
       "      <td>I Still Haven't Found What I'm Looking For</td>\n",
       "      <td>I have climbed highest mountain  \\r\\nI have ru...</td>\n",
       "    </tr>\n",
       "    <tr>\n",
       "      <th>1</th>\n",
       "      <td>Pearl Jam</td>\n",
       "      <td>Of The Girl</td>\n",
       "      <td>Oh, he deals 'em off, off the top, ties 'em of...</td>\n",
       "    </tr>\n",
       "    <tr>\n",
       "      <th>2</th>\n",
       "      <td>Face To Face</td>\n",
       "      <td>The New Way</td>\n",
       "      <td>You're alright, you're alive, you're the numbe...</td>\n",
       "    </tr>\n",
       "    <tr>\n",
       "      <th>3</th>\n",
       "      <td>Stevie Wonder</td>\n",
       "      <td>Ain't That Love</td>\n",
       "      <td>Now, baby when you sigh  \\r\\n(when you sigh)  ...</td>\n",
       "    </tr>\n",
       "    <tr>\n",
       "      <th>4</th>\n",
       "      <td>Ray Boltz</td>\n",
       "      <td>Nobody's Home</td>\n",
       "      <td>Nobody's Home  \\r\\nWords and music by Ray Bolt...</td>\n",
       "    </tr>\n",
       "  </tbody>\n",
       "</table>\n",
       "</div>"
      ],
      "text/plain": [
       "          artist                                        song  \\\n",
       "0           Cher  I Still Haven't Found What I'm Looking For   \n",
       "1      Pearl Jam                                 Of The Girl   \n",
       "2   Face To Face                                 The New Way   \n",
       "3  Stevie Wonder                             Ain't That Love   \n",
       "4      Ray Boltz                               Nobody's Home   \n",
       "\n",
       "                                                text  \n",
       "0  I have climbed highest mountain  \\r\\nI have ru...  \n",
       "1  Oh, he deals 'em off, off the top, ties 'em of...  \n",
       "2  You're alright, you're alive, you're the numbe...  \n",
       "3  Now, baby when you sigh  \\r\\n(when you sigh)  ...  \n",
       "4  Nobody's Home  \\r\\nWords and music by Ray Bolt...  "
      ]
     },
     "execution_count": 199,
     "metadata": {},
     "output_type": "execute_result"
    }
   ],
   "source": [
    "df_spotify_lyrics.head()"
   ]
  },
  {
   "cell_type": "code",
   "execution_count": 200,
   "id": "633445fe",
   "metadata": {},
   "outputs": [],
   "source": [
    "# Text Preprocessing:\n",
    "# 1) lowercasing\n",
    "# 2) Removing html tags and other expressions\n",
    "# 3) Removing Puntuation\n",
    "# 4) Spelling correction\n",
    "# 5) Removing Stopwords\n",
    "# 6) Lemmatization/Stemming\n",
    "# 7) Tokenization"
   ]
  },
  {
   "cell_type": "code",
   "execution_count": 201,
   "id": "002caa26",
   "metadata": {},
   "outputs": [],
   "source": [
    "# lowercasing\n",
    "df_spotify_lyrics['text'] = df_spotify_lyrics['text'].apply(lambda x: x.lower())"
   ]
  },
  {
   "cell_type": "code",
   "execution_count": 202,
   "id": "bef58860",
   "metadata": {},
   "outputs": [
    {
     "data": {
      "text/plain": [
       "\"now, baby when you sigh  \\r\\n(when you sigh)  \\r\\ni wanna sigh with you  \\r\\nwhen you cry  \\r\\n(when you cry)  \\r\\ni wanna cry some, too  \\r\\n  \\r\\nnow, ain't that love  \\r\\n(ain't that love)  \\r\\noh, ain't that love that i feel  \\r\\n(that i feel)  \\r\\nin my heart for you  \\r\\n  \\r\\nwhen your friends  \\r\\n(when your friends)  \\r\\nturn their back on you  \\r\\ni'll be here  \\r\\n(i'll be here)  \\r\\njust to see you through  \\r\\n  \\r\\nnow, ain't that love  \\r\\n(ain't that love)  \\r\\nain't that love  \\r\\n(ain't that love)  \\r\\nain't that love, oh now  \\r\\nain't that love  \\r\\nthat i feel in my heart for you  \\r\\n  \\r\\nnow when you walk  \\r\\n(when you walk)  \\r\\ni wanna walk with you  \\r\\nwhen you talk  \\r\\n(when you talk)  \\r\\nwanna talk some, too  \\r\\n  \\r\\nnow, ain't that love  \\r\\n(ain't that love)  \\r\\noh, ain't that love that i feel  \\r\\n(that i feel)  \\r\\nin my heart for you  \\r\\n  \\r\\nif you ever  \\r\\n(if you ever)  \\r\\never need a friend  \\r\\ni'll be with you  \\r\\n(be with you)  \\r\\nyes, until the end  \\r\\n  \\r\\nnow, ain't that love  \\r\\n(ain't that love)  \\r\\nain't that love  \\r\\n(ain't that love)  \\r\\ndon't you know, baby  \\r\\ndon't you know, i  \\r\\n(oh, oh, oh, oh)  \\r\\nain't that love,  \\r\\nbaby that i feel  \\r\\nin my heart for you  \\r\\n  \\r\\nbaby, won't you let me  \\r\\nhold your hand  \\r\\ni want to squeeze you  \\r\\nas tight as i can  \\r\\nbaby, don't you need  \\r\\nmy by your side  \\r\\nto protect you and  \\r\\nbe your guide  \\r\\nbaby, i'm so in love with you  \\r\\ni'd do anything you tell me to  \\r\\n  \\r\\nnow, ain't that love  \\r\\n(ain't that love)  \\r\\nain't that love  \\r\\n(ain't that love)  \\r\\nc'mon now, ain't that love, now  \\r\\n(oh, oh, oh, oh)  \\r\\nain't that love,  \\r\\nbaby that i feel  \\r\\nin my heart for you  \\r\\noh, that i feel in my  \\r\\nheart for you  \\r\\noh, that i feel in my  \\r\\nheart for you  \\r\\noh, that i feel in my  \\r\\nheart for you  \\r\\noh!\\r\\n\\r\\n\""
      ]
     },
     "execution_count": 202,
     "metadata": {},
     "output_type": "execute_result"
    }
   ],
   "source": [
    "df_spotify_lyrics['text'][3]"
   ]
  },
  {
   "cell_type": "code",
   "execution_count": 203,
   "id": "44ff8026",
   "metadata": {},
   "outputs": [],
   "source": [
    "# Removing html tags\n",
    "import re\n",
    "def remove_htmltags(txt):\n",
    "    pattern = re.compile('<.*?>')\n",
    "    return pattern.sub(r'',txt)\n",
    "\n",
    "df_spotify_lyrics['text'] = df_spotify_lyrics['text'].apply(remove_htmltags)"
   ]
  },
  {
   "cell_type": "code",
   "execution_count": 204,
   "id": "850aaa1a",
   "metadata": {},
   "outputs": [],
   "source": [
    "def remove_regex(txt):\n",
    "    pattern = re.compile('[\\r\\n]+')\n",
    "    return pattern.sub(r'',txt)\n",
    "\n",
    "df_spotify_lyrics['text'] = df_spotify_lyrics['text'].apply(remove_regex)"
   ]
  },
  {
   "cell_type": "code",
   "execution_count": 205,
   "id": "a8560ec2",
   "metadata": {},
   "outputs": [
    {
     "data": {
      "text/plain": [
       "\"now, baby when you sigh  (when you sigh)  i wanna sigh with you  when you cry  (when you cry)  i wanna cry some, too    now, ain't that love  (ain't that love)  oh, ain't that love that i feel  (that i feel)  in my heart for you    when your friends  (when your friends)  turn their back on you  i'll be here  (i'll be here)  just to see you through    now, ain't that love  (ain't that love)  ain't that love  (ain't that love)  ain't that love, oh now  ain't that love  that i feel in my heart for you    now when you walk  (when you walk)  i wanna walk with you  when you talk  (when you talk)  wanna talk some, too    now, ain't that love  (ain't that love)  oh, ain't that love that i feel  (that i feel)  in my heart for you    if you ever  (if you ever)  ever need a friend  i'll be with you  (be with you)  yes, until the end    now, ain't that love  (ain't that love)  ain't that love  (ain't that love)  don't you know, baby  don't you know, i  (oh, oh, oh, oh)  ain't that love,  baby that i feel  in my heart for you    baby, won't you let me  hold your hand  i want to squeeze you  as tight as i can  baby, don't you need  my by your side  to protect you and  be your guide  baby, i'm so in love with you  i'd do anything you tell me to    now, ain't that love  (ain't that love)  ain't that love  (ain't that love)  c'mon now, ain't that love, now  (oh, oh, oh, oh)  ain't that love,  baby that i feel  in my heart for you  oh, that i feel in my  heart for you  oh, that i feel in my  heart for you  oh, that i feel in my  heart for you  oh!\""
      ]
     },
     "execution_count": 205,
     "metadata": {},
     "output_type": "execute_result"
    }
   ],
   "source": [
    "df_spotify_lyrics['text'][3]"
   ]
  },
  {
   "cell_type": "code",
   "execution_count": 206,
   "id": "b10f4f03",
   "metadata": {},
   "outputs": [
    {
     "data": {
      "text/plain": [
       "'!\"#$%&\\'()*+,-./:;<=>?@[\\\\]^_`{|}~'"
      ]
     },
     "execution_count": 206,
     "metadata": {},
     "output_type": "execute_result"
    }
   ],
   "source": [
    "# Removing punctuations\n",
    "import string\n",
    "string.punctuation"
   ]
  },
  {
   "cell_type": "code",
   "execution_count": 207,
   "id": "64e7cd90",
   "metadata": {},
   "outputs": [],
   "source": [
    "exclude = string.punctuation\n",
    "def remove_punc(txt):\n",
    "    return txt.translate(str.maketrans('','', exclude))\n",
    "\n",
    "df_spotify_lyrics['text'] = df_spotify_lyrics['text'].apply(remove_punc)"
   ]
  },
  {
   "cell_type": "code",
   "execution_count": 187,
   "id": "6a1eb269",
   "metadata": {},
   "outputs": [],
   "source": [
    "from tqdm import tqdm\n",
    "tqdm.pandas()"
   ]
  },
  {
   "cell_type": "code",
   "execution_count": 130,
   "id": "03f408ef",
   "metadata": {},
   "outputs": [
    {
     "name": "stderr",
     "output_type": "stream",
     "text": [
      "100%|███████████████████████████████████| 15000/15000 [3:22:34<00:00,  1.23it/s]\n"
     ]
    }
   ],
   "source": [
    "# spelling correction\n",
    "from textblob import TextBlob\n",
    "def spel_cor(txt):\n",
    "    txtblb = TextBlob(txt)\n",
    "    return txtblb.correct().string\n",
    "\n",
    "df_spotify_lyrics['text'] = df_spotify_lyrics['text'].progress_apply(spel_cor)"
   ]
  },
  {
   "cell_type": "code",
   "execution_count": 208,
   "id": "223c4669",
   "metadata": {},
   "outputs": [],
   "source": [
    "#stopwords\n",
    "from nltk.corpus import stopwords\n",
    "stopwords.words('english')\n",
    "\n",
    "def remove_stopwords(txt):\n",
    "    new_txt = []\n",
    "    for w in txt.split():\n",
    "        if w in stopwords.words('english'):\n",
    "            new_txt.append('')\n",
    "        else:\n",
    "            new_txt.append(w)\n",
    "    return ' '.join(new_txt)\n",
    "\n",
    "df_spotify_lyrics['text'] = df_spotify_lyrics['text'].apply(remove_stopwords)\n"
   ]
  },
  {
   "cell_type": "code",
   "execution_count": 213,
   "id": "a3384013",
   "metadata": {},
   "outputs": [],
   "source": [
    "# Stemming\n",
    "from nltk.stem.porter import PorterStemmer\n",
    "ps = PorterStemmer()\n",
    "def stem_words(txt):\n",
    "    return ' '.join([ps.stem(w) for w in txt.split()])\n",
    "\n",
    "df_spotify_lyrics['text'] = df_spotify_lyrics['text'].apply(stem_words)"
   ]
  },
  {
   "cell_type": "code",
   "execution_count": 214,
   "id": "24d05914",
   "metadata": {},
   "outputs": [
    {
     "data": {
      "text/plain": [
       "'son heir shyness crimin vulgar son heir noth particular oh shut mouth say go thing wrong way im human need love like everyon like everyon son heir shyness crimin vulgar son heir noth particular noth particular say gonna happen exactli mean ive alreadi wait long hope gone there club youd like go might meet someon realli love go leav go home cri wanna die'"
      ]
     },
     "execution_count": 214,
     "metadata": {},
     "output_type": "execute_result"
    }
   ],
   "source": [
    "df_spotify_lyrics['text'][15]"
   ]
  },
  {
   "cell_type": "code",
   "execution_count": 219,
   "id": "ed027e02",
   "metadata": {},
   "outputs": [],
   "source": [
    "from sklearn.feature_extraction.text import TfidfVectorizer\n",
    "tfidf = TfidfVectorizer()\n",
    "\n",
    "matrix = tfidf.fit_transform(df_spotify_lyrics['text']).toarray()"
   ]
  },
  {
   "cell_type": "code",
   "execution_count": 221,
   "id": "c7ab201e",
   "metadata": {},
   "outputs": [],
   "source": [
    "from sklearn.metrics.pairwise import cosine_similarity\n",
    "similar = cosine_similarity(matrix)"
   ]
  },
  {
   "cell_type": "code",
   "execution_count": 229,
   "id": "4cb08de8",
   "metadata": {},
   "outputs": [
    {
     "data": {
      "text/plain": [
       "array([0.00644592, 0.04139237, 1.        , ..., 0.07331797, 0.01530703,\n",
       "       0.00949046])"
      ]
     },
     "execution_count": 229,
     "metadata": {},
     "output_type": "execute_result"
    }
   ],
   "source": [
    "similar[2]                           # cosine similarity of 3rd review with every review"
   ]
  },
  {
   "cell_type": "code",
   "execution_count": 253,
   "id": "85731202",
   "metadata": {},
   "outputs": [
    {
     "data": {
      "text/plain": [
       "1"
      ]
     },
     "execution_count": 253,
     "metadata": {},
     "output_type": "execute_result"
    }
   ],
   "source": [
    "df_spotify_lyrics[df_spotify_lyrics['song']=='Of The Girl'].index[0]"
   ]
  },
  {
   "cell_type": "code",
   "execution_count": 256,
   "id": "ab89f9de",
   "metadata": {},
   "outputs": [],
   "source": [
    "# Recommendation function\n",
    "\n",
    "def recommender(song_name):\n",
    "    idx = df_spotify_lyrics[df_spotify_lyrics['song']==song_name].index[0]\n",
    "    distance = sorted(list(enumerate(similar[idx])),reverse=True, key=lambda x: x[1])    # distance is a list of tuples. Each tuple contains index and the similiarity score\n",
    "    \n",
    "    song = []\n",
    "    for s_id in distance[1:8]:\n",
    "        song.append(df_spotify_lyrics.iloc[s_id[0]].song)\n",
    "    return song"
   ]
  },
  {
   "cell_type": "code",
   "execution_count": 258,
   "id": "d1db13b3",
   "metadata": {},
   "outputs": [
    {
     "data": {
      "text/html": [
       "<div>\n",
       "<style scoped>\n",
       "    .dataframe tbody tr th:only-of-type {\n",
       "        vertical-align: middle;\n",
       "    }\n",
       "\n",
       "    .dataframe tbody tr th {\n",
       "        vertical-align: top;\n",
       "    }\n",
       "\n",
       "    .dataframe thead th {\n",
       "        text-align: right;\n",
       "    }\n",
       "</style>\n",
       "<table border=\"1\" class=\"dataframe\">\n",
       "  <thead>\n",
       "    <tr style=\"text-align: right;\">\n",
       "      <th></th>\n",
       "      <th>artist</th>\n",
       "      <th>song</th>\n",
       "      <th>text</th>\n",
       "    </tr>\n",
       "  </thead>\n",
       "  <tbody>\n",
       "    <tr>\n",
       "      <th>2717</th>\n",
       "      <td>John Prine</td>\n",
       "      <td>Grandpa Was A Carpenter</td>\n",
       "      <td>grandpa wore suit dinner nearli everi day part...</td>\n",
       "    </tr>\n",
       "    <tr>\n",
       "      <th>5692</th>\n",
       "      <td>Grateful Dead</td>\n",
       "      <td>Can't Come Down</td>\n",
       "      <td>well im fli desert street wrap mother wine she...</td>\n",
       "    </tr>\n",
       "    <tr>\n",
       "      <th>5636</th>\n",
       "      <td>Youth Of Today</td>\n",
       "      <td>One Family</td>\n",
       "      <td>much anticip futur gener think kid today grow ...</td>\n",
       "    </tr>\n",
       "    <tr>\n",
       "      <th>260</th>\n",
       "      <td>America</td>\n",
       "      <td>Only Game In Town</td>\n",
       "      <td>spectat line avenu player step right cue everi...</td>\n",
       "    </tr>\n",
       "    <tr>\n",
       "      <th>3041</th>\n",
       "      <td>Ocean Colour Scene</td>\n",
       "      <td>Fleeting Mind</td>\n",
       "      <td>brillianc fleet mind chime like voic foreign c...</td>\n",
       "    </tr>\n",
       "    <tr>\n",
       "      <th>14359</th>\n",
       "      <td>Eric Clapton</td>\n",
       "      <td>Bad Influence</td>\n",
       "      <td>use get anyth want oh im chang man babi friend...</td>\n",
       "    </tr>\n",
       "    <tr>\n",
       "      <th>12017</th>\n",
       "      <td>Stone Temple Pilots</td>\n",
       "      <td>Same On The Inside</td>\n",
       "      <td>send messag world cant seem find word one want...</td>\n",
       "    </tr>\n",
       "    <tr>\n",
       "      <th>7679</th>\n",
       "      <td>Helloween</td>\n",
       "      <td>Revolution Now</td>\n",
       "      <td>well think realli time revolut destroy cost lo...</td>\n",
       "    </tr>\n",
       "    <tr>\n",
       "      <th>4791</th>\n",
       "      <td>Tragically Hip</td>\n",
       "      <td>A Beautiful Thing</td>\n",
       "      <td>ulcer silenc perspect come way alway ransom ra...</td>\n",
       "    </tr>\n",
       "    <tr>\n",
       "      <th>74</th>\n",
       "      <td>Morrissey</td>\n",
       "      <td>Black Cloud</td>\n",
       "      <td>one love stand near one love everywher woo amu...</td>\n",
       "    </tr>\n",
       "  </tbody>\n",
       "</table>\n",
       "</div>"
      ],
      "text/plain": [
       "                    artist                     song  \\\n",
       "2717            John Prine  Grandpa Was A Carpenter   \n",
       "5692         Grateful Dead          Can't Come Down   \n",
       "5636        Youth Of Today               One Family   \n",
       "260                America        Only Game In Town   \n",
       "3041    Ocean Colour Scene            Fleeting Mind   \n",
       "14359         Eric Clapton            Bad Influence   \n",
       "12017  Stone Temple Pilots       Same On The Inside   \n",
       "7679             Helloween           Revolution Now   \n",
       "4791        Tragically Hip        A Beautiful Thing   \n",
       "74               Morrissey              Black Cloud   \n",
       "\n",
       "                                                    text  \n",
       "2717   grandpa wore suit dinner nearli everi day part...  \n",
       "5692   well im fli desert street wrap mother wine she...  \n",
       "5636   much anticip futur gener think kid today grow ...  \n",
       "260    spectat line avenu player step right cue everi...  \n",
       "3041   brillianc fleet mind chime like voic foreign c...  \n",
       "14359  use get anyth want oh im chang man babi friend...  \n",
       "12017  send messag world cant seem find word one want...  \n",
       "7679   well think realli time revolut destroy cost lo...  \n",
       "4791   ulcer silenc perspect come way alway ransom ra...  \n",
       "74     one love stand near one love everywher woo amu...  "
      ]
     },
     "execution_count": 258,
     "metadata": {},
     "output_type": "execute_result"
    }
   ],
   "source": [
    "df_spotify_lyrics.sample(10)"
   ]
  },
  {
   "cell_type": "code",
   "execution_count": 261,
   "id": "a081edda",
   "metadata": {},
   "outputs": [
    {
     "data": {
      "text/plain": [
       "['More Fool You',\n",
       " 'Girls And Boys',\n",
       " 'Million Dollar Bill',\n",
       " \"Don't Make 'Em Like You\",\n",
       " 'In The End',\n",
       " 'Sing Together',\n",
       " 'Pavlove']"
      ]
     },
     "execution_count": 261,
     "metadata": {},
     "output_type": "execute_result"
    }
   ],
   "source": [
    "recommender('Of The Girl')"
   ]
  },
  {
   "cell_type": "code",
   "execution_count": 262,
   "id": "521ad170",
   "metadata": {},
   "outputs": [],
   "source": [
    "import pickle\n",
    "pickle.dump(similar, open('similarity', 'wb'))\n",
    "pickle.dump(df_spotify_lyrics, open('df_spotify_lyrics','wb'))"
   ]
  },
  {
   "cell_type": "code",
   "execution_count": null,
   "id": "5da4fd9f",
   "metadata": {},
   "outputs": [],
   "source": []
  }
 ],
 "metadata": {
  "kernelspec": {
   "display_name": "Python 3 (ipykernel)",
   "language": "python",
   "name": "python3"
  },
  "language_info": {
   "codemirror_mode": {
    "name": "ipython",
    "version": 3
   },
   "file_extension": ".py",
   "mimetype": "text/x-python",
   "name": "python",
   "nbconvert_exporter": "python",
   "pygments_lexer": "ipython3",
   "version": "3.11.5"
  }
 },
 "nbformat": 4,
 "nbformat_minor": 5
}
